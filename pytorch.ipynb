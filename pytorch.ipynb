{
 "cells": [
  {
   "cell_type": "code",
   "execution_count": 18,
   "metadata": {},
   "outputs": [],
   "source": [
    "import pandas as pd\n",
    "import torch\n",
    "import timm\n",
    "from torch.utils.data import DataLoader, Dataset\n",
    "from torchvision import transforms\n",
    "from sklearn.model_selection import train_test_split\n"
   ]
  },
  {
   "cell_type": "code",
   "execution_count": 19,
   "metadata": {},
   "outputs": [
    {
     "name": "stdout",
     "output_type": "stream",
     "text": [
      "3381\n"
     ]
    }
   ],
   "source": [
    "\n",
    "df = pd.read_csv(\"../tags_processed_stages/dafre_tags_symbolsremoved_minlen2_minapp2_profsremoved_filledempty.csv\")\n",
    "df.head()\n",
    "print(df['tags_cat4'].nunique())"
   ]
  },
  {
   "cell_type": "code",
   "execution_count": 27,
   "metadata": {},
   "outputs": [
    {
     "name": "stdout",
     "output_type": "stream",
     "text": [
      "['hatsune miku']                                         10644\n",
      "['hakurei reimu']                                         6691\n",
      "['rumia']                                                 3803\n",
      "['kochiya sanae']                                         3472\n",
      "['cirno']                                                 3470\n",
      "                                                         ...  \n",
      "['alice margatroid', 'cardboard box gundam']                 1\n",
      "['ayesha altugle', 'puni (atelier)']                         1\n",
      "['akagi (azur lane)', 'shoukaku (azur lane)']                1\n",
      "['maria traydor', 'rinoa heartilly']                         1\n",
      "['hirasawa yui', 'kotobuki tsumugi', 'tainaka ritsu']        1\n",
      "Name: tags_cat4, Length: 3381, dtype: int64\n",
      "['hatsune miku']                           10644\n",
      "['hakurei reimu']                           6691\n",
      "['rumia']                                   3803\n",
      "['kochiya sanae']                           3472\n",
      "['cirno']                                   3470\n",
      "                                           ...  \n",
      "['nanakura koharu']                           19\n",
      "['nekomusume']                                18\n",
      "['female priest (dungeon and fighter)']       17\n",
      "['okonogi yuuko']                             14\n",
      "['izayoi (blazblue)']                         10\n",
      "Name: tags_cat4, Length: 3258, dtype: int64\n"
     ]
    }
   ],
   "source": [
    "class_counts = df['tags_cat4'].value_counts()\n",
    "print(class_counts)\n",
    "\n",
    "def contains_multiple_tags(label, separator=','):\n",
    "    return separator in label\n",
    "filtered_df = df[~df['tags_cat4'].apply(contains_multiple_tags, separator=',')]\n",
    "\n",
    "class_counts = filtered_df['tags_cat4'].value_counts()\n",
    "print(class_counts)"
   ]
  },
  {
   "cell_type": "code",
   "execution_count": 29,
   "metadata": {},
   "outputs": [
    {
     "name": "stdout",
     "output_type": "stream",
     "text": [
      "3258\n",
      "3258\n",
      "3258\n"
     ]
    }
   ],
   "source": [
    "train_df, temp_test_df = train_test_split(filtered_df, test_size=0.2, stratify=filtered_df['tags_cat4'])\n",
    "val_df, test_df = train_test_split(temp_test_df, test_size=0.5, stratify=temp_test_df['tags_cat4'])\n",
    "\n",
    "print(train_df['tags_cat4'].nunique())\n",
    "print(val_df['tags_cat4'].nunique())\n",
    "print(test_df['tags_cat4'].nunique())"
   ]
  },
  {
   "cell_type": "code",
   "execution_count": null,
   "metadata": {},
   "outputs": [],
   "source": [
    "train_transforms = transforms.Compose({\n",
    "    transforms.RandomResizedCrop((224, 224), scale=(0.8, 1)),\n",
    "    transforms.TrivialAugmentWide(),\n",
    "    transforms.RandomHorizontalFlip(),\n",
    "    transforms.ToTensor(),\n",
    "    transforms.Normalize(mean=[0.5, 0.5, 0.5], std=[0.5, 0.5, 0.5]),\n",
    "})\n",
    "val_test_transforms = transforms.Compose({\n",
    "    transforms.Resize((224, 224)),\n",
    "    transforms.ToTensor(),\n",
    "    transforms.Normalize(mean=[0.5, 0.5, 0.5], std=[0.5, 0.5, 0.5]),\n",
    "})"
   ]
  },
  {
   "cell_type": "code",
   "execution_count": null,
   "metadata": {},
   "outputs": [],
   "source": [
    "model = timm.create_model('beit_base_patch16_224_in22k', num_classes=3258, pretrained=True)\n"
   ]
  }
 ],
 "metadata": {
  "kernelspec": {
   "display_name": "Python 3",
   "language": "python",
   "name": "python3"
  },
  "language_info": {
   "codemirror_mode": {
    "name": "ipython",
    "version": 3
   },
   "file_extension": ".py",
   "mimetype": "text/x-python",
   "name": "python",
   "nbconvert_exporter": "python",
   "pygments_lexer": "ipython3",
   "version": "3.10.12"
  }
 },
 "nbformat": 4,
 "nbformat_minor": 2
}
