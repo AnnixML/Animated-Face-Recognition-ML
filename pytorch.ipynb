{
 "cells": [
  {
   "cell_type": "code",
   "execution_count": 1,
   "metadata": {},
   "outputs": [],
   "source": [
    "import pandas as pd\n",
    "from sklearn.preprocessing import LabelEncoder\n",
    "import torch\n",
    "import torch.nn as nn\n",
    "import timm\n",
    "import pytorch_lightning as pl\n",
    "from torch.utils.data import DataLoader, Dataset,  WeightedRandomSampler\n",
    "from torchvision import transforms\n",
    "from sklearn.model_selection import train_test_split\n"
   ]
  },
  {
   "cell_type": "code",
   "execution_count": 2,
   "metadata": {},
   "outputs": [
    {
     "name": "stdout",
     "output_type": "stream",
     "text": [
      "3381\n"
     ]
    }
   ],
   "source": [
    "\n",
    "df = pd.read_csv(\"../tags_processed_stages/dafre_tags_symbolsremoved_minlen2_minapp2_profsremoved_filledempty.csv\")\n",
    "df.head()\n",
    "print(df['tags_cat4'].nunique())"
   ]
  },
  {
   "cell_type": "code",
   "execution_count": null,
   "metadata": {},
   "outputs": [],
   "source": [
    "print(timm.list_models(pretrained=True))"
   ]
  },
  {
   "cell_type": "code",
   "execution_count": 3,
   "metadata": {},
   "outputs": [
    {
     "name": "stdout",
     "output_type": "stream",
     "text": [
      "['hatsune miku']                                         10644\n",
      "['hakurei reimu']                                         6691\n",
      "['rumia']                                                 3803\n",
      "['kochiya sanae']                                         3472\n",
      "['cirno']                                                 3470\n",
      "                                                         ...  \n",
      "['alice margatroid', 'cardboard box gundam']                 1\n",
      "['ayesha altugle', 'puni (atelier)']                         1\n",
      "['akagi (azur lane)', 'shoukaku (azur lane)']                1\n",
      "['maria traydor', 'rinoa heartilly']                         1\n",
      "['hirasawa yui', 'kotobuki tsumugi', 'tainaka ritsu']        1\n",
      "Name: tags_cat4, Length: 3381, dtype: int64\n",
      "['hatsune miku']                           10644\n",
      "['hakurei reimu']                           6691\n",
      "['rumia']                                   3803\n",
      "['kochiya sanae']                           3472\n",
      "['cirno']                                   3470\n",
      "                                           ...  \n",
      "['nanakura koharu']                           19\n",
      "['nekomusume']                                18\n",
      "['female priest (dungeon and fighter)']       17\n",
      "['okonogi yuuko']                             14\n",
      "['izayoi (blazblue)']                         10\n",
      "Name: tags_cat4, Length: 3258, dtype: int64\n"
     ]
    }
   ],
   "source": [
    "class_counts = df['tags_cat4'].value_counts()\n",
    "print(class_counts)\n",
    "\n",
    "def contains_multiple_tags(label, separator=','):\n",
    "    return separator in label\n",
    "filtered_df = df[~df['tags_cat4'].apply(contains_multiple_tags, separator=',')]\n",
    "\n",
    "class_counts = filtered_df['tags_cat4'].value_counts()\n",
    "print(class_counts)"
   ]
  },
  {
   "cell_type": "code",
   "execution_count": 4,
   "metadata": {},
   "outputs": [
    {
     "name": "stdout",
     "output_type": "stream",
     "text": [
      "818     10644\n",
      "769      6691\n",
      "2354     3803\n",
      "1363     3472\n",
      "454      3470\n",
      "        ...  \n",
      "1978       19\n",
      "2029       18\n",
      "623        17\n",
      "2134       14\n",
      "1087       10\n",
      "Name: encoded_labels, Length: 3258, dtype: int64\n",
      "3258\n",
      "3258\n",
      "3258\n"
     ]
    }
   ],
   "source": [
    "filtered_df = filtered_df.copy()\n",
    "label_encoder = LabelEncoder()\n",
    "filtered_df['encoded_labels'] = label_encoder.fit_transform(filtered_df['tags_cat4'])\n",
    "\n",
    "train_df, temp_test_df = train_test_split(filteraed_df, test_size=0.2, strtify=filtered_df['encoded_labels'])\n",
    "val_df, test_df = train_test_split(temp_test_df, test_size=0.5, stratify=temp_test_df['encoded_labels'])\n",
    "class_counts = filtered_df['encoded_labels'].value_counts()\n",
    "print(class_counts)\n",
    "print(train_df['encoded_labels'].nunique())\n",
    "print(val_df['encoded_labels'].nunique())\n",
    "print(test_df['encoded_labels'].nunique())"
   ]
  },
  {
   "cell_type": "code",
   "execution_count": null,
   "metadata": {},
   "outputs": [],
   "source": [
    "train_df.head()"
   ]
  },
  {
   "cell_type": "code",
   "execution_count": 5,
   "metadata": {},
   "outputs": [],
   "source": [
    "train_transforms = transforms.Compose([\n",
    "    transforms.RandomResizedCrop((224, 224), scale=(0.8, 1)),\n",
    "    transforms.TrivialAugmentWide(),\n",
    "    transforms.RandomHorizontalFlip(),\n",
    "    transforms.ToTensor(),\n",
    "    transforms.Normalize(mean=[0.5, 0.5, 0.5], std=[0.5, 0.5, 0.5]),\n",
    "])\n",
    "val_test_transforms = transforms.Compose([\n",
    "    transforms.Resize((224, 224)),\n",
    "    transforms.ToTensor(),\n",
    "    transforms.Normalize(mean=[0.5, 0.5, 0.5], std=[0.5, 0.5, 0.5]),\n",
    "])"
   ]
  },
  {
   "cell_type": "code",
   "execution_count": 6,
   "metadata": {},
   "outputs": [],
   "source": [
    "#sampler\n",
    "class_counts = train_df['encoded_labels'].value_counts().sort_index()\n",
    "class_weights = 1. / class_counts\n",
    "sweights = train_df['encoded_labels'].map(class_weights).values\n",
    "sweights = torch.tensor(sweights,  dtype=torch.double)\n",
    "sampler = WeightedRandomSampler(weights=sweights, num_samples=len(sweights), replacement=True)"
   ]
  },
  {
   "cell_type": "code",
   "execution_count": null,
   "metadata": {},
   "outputs": [],
   "source": [
    "train_df.head()"
   ]
  },
  {
   "cell_type": "code",
   "execution_count": 7,
   "metadata": {},
   "outputs": [],
   "source": [
    "import os\n",
    "import pandas as pd\n",
    "from PIL import Image\n",
    "\n",
    "class CustomImageDataset(Dataset):\n",
    "    def __init__(self, dataframe, transform=None):\n",
    "        self.dataframe = dataframe\n",
    "        self.transform = transform\n",
    "        self.image_folder = \"../fullMin256/\"\n",
    "    def __len__(self):\n",
    "        return len(self.dataframe)\n",
    "\n",
    "    def __getitem__(self, idx):\n",
    "        img_path = os.path.join(self.image_folder, str(self.dataframe.iloc[idx, 1]))\n",
    "        image = Image.open(img_path).convert('RGB')\n",
    "        label = torch.tensor(self.dataframe.iloc[idx]['encoded_labels'], dtype=torch.long)\n",
    "        if self.transform:\n",
    "            image = self.transform(image)\n",
    "        return image, label\n",
    "train_ds = CustomImageDataset(dataframe=train_df, transform=train_transforms)\n",
    "test_ds = CustomImageDataset(dataframe=test_df, transform=val_test_transforms)\n",
    "val_ds = CustomImageDataset(dataframe=val_df, transform=val_test_transforms)"
   ]
  },
  {
   "cell_type": "code",
   "execution_count": 8,
   "metadata": {},
   "outputs": [],
   "source": [
    "\n",
    "import pytorch_lightning as L\n",
    "import numpy as np\n",
    "from pytorch_lightning.utilities.types import EVAL_DATALOADERS\n",
    "class PTDM(L.LightningDataModule):\n",
    "    def __init__ (self, bs, w, ms, bsa=True, pd = \"\", ep=0.25):\n",
    "        super().__init__()\n",
    "        self.save_hyperparameters()\n",
    "        self.bs = bs\n",
    "        self.w = w\n",
    "        self.ms = ms\n",
    "        self.bsa= bsa\n",
    "        self.pd = pd\n",
    "        self.ep = ep\n",
    "        self.t_transforms = transforms.Compose([\n",
    "            transforms.RandomResizedCrop(\n",
    "                (224, 224), scale=(self.ms, 1)\n",
    "            ),\n",
    "            transforms.RandomHorizontalFlip(),\n",
    "            transforms.TrivialAugmentWide(),\n",
    "            transforms.ToTensor(),\n",
    "            transforms.Normalize(mean=[0.5, 0.5, 0.5], std=[0.5, 0.5, 0.5]),\n",
    "            transforms.RandomErasing(p=self.ep),\n",
    "        ])\n",
    "        self.v_transforms = transforms.Compose([\n",
    "            transforms.Resize((224, 224)),\n",
    "            transforms.ToTensor(),\n",
    "            transforms.Normalize(mean=[0.5, 0.5, 0.5], std=[0.5, 0.5, 0.5]),\n",
    "        ])\n",
    "        class_sample_count = np.array([len(np.where(train_df['encoded_labels'] == t)[0]) for t in np.unique(train_df['encoded_labels'])])\n",
    "        weight = 1. / class_sample_count\n",
    "        samples_weight = np.array([weight[t] for t in train_df['encoded_labels']])\n",
    "        samples_weight = torch.from_numpy(samples_weight)\n",
    "        samples_weight = samples_weight.double()\n",
    "        self.sampler = WeightedRandomSampler(samples_weight, len(samples_weight))\n",
    "    def setup(self, stage):\n",
    "        if stage==\"fit\":\n",
    "            self.train_dataset = CustomImageDataset(train_df, self.t_transforms)\n",
    "            self.val_dataset = CustomImageDataset(val_df, self.v_transforms)\n",
    "        elif stage==\"test\":\n",
    "            self.test_dataset = CustomImageDataset(test_df, self.v_transforms)\n",
    "    def train_dataloader(self):\n",
    "        return DataLoader(self.train_dataset, batch_size=self.bs, sampler=self.sampler, shuffle=False, num_workers=self.w, pin_memory=True, drop_last=True, persistent_workers=False)\n",
    "    def val_dataloader(self):\n",
    "        return DataLoader(self.val_dataset, batch_size=self.bs, shuffle=False, num_workers=self.w, pin_memory=True, persistent_workers=False)\n",
    "    def test_dataloader(self):\n",
    "        return DataLoader(self.test_dataset, batch_size=self.bs, shuffle=False, num_workers=self.w, pin_memory=True, persistent_workers=False)\n",
    "dm = PTDM(bs=32, w=8, ms=0.8, bsa=True, ep=0.25)\n",
    "dm.setup(stage=\"fit\")"
   ]
  },
  {
   "cell_type": "code",
   "execution_count": null,
   "metadata": {},
   "outputs": [],
   "source": [
    "for x,y in dm.train_dataloader():\n",
    "    print(x)\n",
    "    print(x.size())\n",
    "    print(x.dtype)\n",
    "    break\n",
    "for x,y in dm.val_dataloader():\n",
    "    print(y)\n",
    "    print(y.size())\n",
    "    print(y.dtype)\n",
    "    break"
   ]
  },
  {
   "cell_type": "code",
   "execution_count": 9,
   "metadata": {},
   "outputs": [],
   "source": [
    "from transformers.optimization import get_cosine_schedule_with_warmup\n",
    "from torchmetrics import Accuracy\n",
    "import torch.nn.functional as F\n",
    "from torch.nn.functional import log_softmax\n",
    "from transformers.models.auto.modeling_auto import AutoModelForImageClassification\n",
    "# credit Ross Wightman\n",
    "class SoftTargetCrossEntropy(nn.Module):\n",
    "    def __init__(self):\n",
    "        super(SoftTargetCrossEntropy, self).__init__()\n",
    "\n",
    "    def forward(self, x: torch.Tensor, target: torch.Tensor) -> torch.Tensor:\n",
    "        loss = torch.sum(-target * log_softmax(x, dim=-1), dim=-1)\n",
    "        return loss.mean()\n",
    "    \n",
    "\n",
    "class PTModel(pl.LightningModule):\n",
    "    def __init__(self, num_classes=3258, model_name=\"LETS GOOOOOOO\", checkpoint=None, ft=False):\n",
    "        super(PTModel, self).__init__()\n",
    "        self.save_hyperparameters()\n",
    "        '''\n",
    "    \n",
    "        self.model =  AutoModelForImageClassification.from_pretrained(\n",
    "                \"microsoft/beit-base-patch16-224-pt22k-ft22k\",\n",
    "                num_labels=3258,\n",
    "                ignore_mismatched_sizes=True,\n",
    "                image_size=224,\n",
    "            )\n",
    "            '''\n",
    "        self.model = timm.create_model(\"beit_base_patch16_224.in22k_ft_in22k\", pretrained=True, num_classes=3258)\n",
    "        #self.model.head = nn.Linear(self.model.head.in_features, num_classes)\n",
    "        #self.model.fc = nn.Linear(128, num_classes)\n",
    "        self.acc = Accuracy(task=\"multiclass\", num_classes=3258, top_k=1)\n",
    "        self.acctop5 = Accuracy(task=\"multiclass\", num_classes=3258, top_k=5)\n",
    "        if ft == False:\n",
    "            for name, param in self.model.named_parameters():\n",
    "                if 'classifier' not in name and \"head\" not in name:\n",
    "                    param.requires_grad = False\n",
    "        if checkpoint:\n",
    "            check = torch.load(checkpoint)\n",
    "            #print(check[\"state_dict\"])\n",
    "            tsd = {}\n",
    "            for k, v in check.items():\n",
    "                 if k.startswith(\"model\") and not ((k.startswith(\"model.classifier\") or k.startswith(\"model.head\"))):\n",
    "                    k = k.replace(\"model\" + \".\", \"\")\n",
    "                    tsd[k] = v\n",
    "            self.model.load_state_dict(tsd, strict=False)\n",
    "\n",
    "        self = self.to(memory_format=torch.channels_last)\n",
    "    def forward(self, x):\n",
    "        self = self.to(memory_format=torch.channels_last)\n",
    "        #return self.model(pixel_values=x).logits\n",
    "        return self.model(x)\n",
    "    def step(self, batch, type):\n",
    "        images, labels = batch\n",
    "        outputs = self(images)\n",
    "       # loss_fn = SoftTargetCrossEntropy()\n",
    "        loss_fn = nn.CrossEntropyLoss()\n",
    "        if type != \"train\":\n",
    "            labels = F.one_hot(labels, num_classes=3258).float()\n",
    "        loss = loss_fn(outputs, labels)\n",
    "        self.log(f\"{type}_loss\", loss, on_step=True, on_epoch=True, prog_bar=True, logger=True)\n",
    "        self.log(f\"{type}_acc\", self.acc(outputs, labels), on_step=True, on_epoch=True, prog_bar=True, logger=True)\n",
    "        self.log(f\"{type}_acctop5\", self.acctop5(outputs, labels), on_step=True, on_epoch=True, prog_bar=True, logger=True)\n",
    "        return loss\n",
    "    def training_step(self, batch, _):\n",
    "        return self.step(batch, \"train\")\n",
    "\n",
    "    def validation_step(self, batch, _):\n",
    "        return self.step(batch, \"val\")\n",
    "\n",
    "    def test_step(self, batch, _):\n",
    "        return self.step(batch, \"test\")\n",
    "    \n",
    "    def configure_optimizers(self):\n",
    "        optimizer = torch.optim.SGD(self.parameters(), lr=0.1, momentum=0.9, weight_decay=0)\n",
    "        scheduler = get_cosine_schedule_with_warmup(\n",
    "                optimizer,\n",
    "                num_training_steps=int(self.trainer.estimated_stepping_batches),\n",
    "                num_warmup_steps=1000,\n",
    "            )\n",
    "        return {\n",
    "            \"optimizer\": optimizer,\n",
    "            \"lr_scheduler\":  {\n",
    "                \"scheduler\": scheduler,\n",
    "                \"interval\": \"step\"\n",
    "            }\n",
    "        }\n"
   ]
  },
  {
   "cell_type": "code",
   "execution_count": 10,
   "metadata": {},
   "outputs": [
    {
     "name": "stderr",
     "output_type": "stream",
     "text": [
      "/home/leogu/.local/lib/python3.10/site-packages/torch/functional.py:507: UserWarning: torch.meshgrid: in an upcoming release, it will be required to pass the indexing argument. (Triggered internally at ../aten/src/ATen/native/TensorShape.cpp:3549.)\n",
      "  return _VF.meshgrid(tensors, **kwargs)  # type: ignore[attr-defined]\n",
      "/usr/lib/python3/dist-packages/pkg_resources/__init__.py:116: PkgResourcesDeprecationWarning: 1.1build1 is an invalid version and will not be supported in a future release\n",
      "  warnings.warn(\n",
      "/home/leogu/.local/lib/python3.10/site-packages/lightning_fabric/connector.py:558: `precision=16` is supported for historical reasons but its usage is discouraged. Please set your precision to 16-mixed instead!\n",
      "Using 16bit Automatic Mixed Precision (AMP)\n",
      "GPU available: True (cuda), used: True\n",
      "TPU available: False, using: 0 TPU cores\n",
      "IPU available: False, using: 0 IPUs\n",
      "HPU available: False, using: 0 HPUs\n",
      "You are using a CUDA device ('NVIDIA GeForce RTX 3080 Laptop GPU') that has Tensor Cores. To properly utilize them, you should set `torch.set_float32_matmul_precision('medium' | 'high')` which will trade-off precision for performance. For more details, read https://pytorch.org/docs/stable/generated/torch.set_float32_matmul_precision.html#torch.set_float32_matmul_precision\n",
      "2024-02-16 14:27:25.374845: E external/local_xla/xla/stream_executor/cuda/cuda_dnn.cc:9261] Unable to register cuDNN factory: Attempting to register factory for plugin cuDNN when one has already been registered\n",
      "2024-02-16 14:27:25.374903: E external/local_xla/xla/stream_executor/cuda/cuda_fft.cc:607] Unable to register cuFFT factory: Attempting to register factory for plugin cuFFT when one has already been registered\n",
      "2024-02-16 14:27:25.375475: E external/local_xla/xla/stream_executor/cuda/cuda_blas.cc:1515] Unable to register cuBLAS factory: Attempting to register factory for plugin cuBLAS when one has already been registered\n",
      "2024-02-16 14:27:25.378988: I tensorflow/core/platform/cpu_feature_guard.cc:182] This TensorFlow binary is optimized to use available CPU instructions in performance-critical operations.\n",
      "To enable the following instructions: AVX2 FMA, in other operations, rebuild TensorFlow with the appropriate compiler flags.\n",
      "2024-02-16 14:27:26.096543: W tensorflow/compiler/tf2tensorrt/utils/py_utils.cc:38] TF-TRT Warning: Could not find TensorRT\n",
      "LOCAL_RANK: 0 - CUDA_VISIBLE_DEVICES: [0]\n",
      "\n",
      "  | Name    | Type               | Params\n",
      "-----------------------------------------------\n",
      "0 | model   | Beit               | 88.3 M\n",
      "1 | acc     | MulticlassAccuracy | 0     \n",
      "2 | acctop5 | MulticlassAccuracy | 0     \n",
      "-----------------------------------------------\n",
      "2.5 M     Trainable params\n",
      "85.8 M    Non-trainable params\n",
      "88.3 M    Total params\n",
      "353.070   Total estimated model params size (MB)\n"
     ]
    },
    {
     "data": {
      "application/vnd.jupyter.widget-view+json": {
       "model_id": "077e207822524cb1af287a45a9207ec7",
       "version_major": 2,
       "version_minor": 0
      },
      "text/plain": [
       "Sanity Checking: |          | 0/? [00:00<?, ?it/s]"
      ]
     },
     "metadata": {},
     "output_type": "display_data"
    },
    {
     "data": {
      "application/vnd.jupyter.widget-view+json": {
       "model_id": "0bdbfad1b9b64abb9283d7831eb5712f",
       "version_major": 2,
       "version_minor": 0
      },
      "text/plain": [
       "Training: |          | 0/? [00:00<?, ?it/s]"
      ]
     },
     "metadata": {},
     "output_type": "display_data"
    },
    {
     "data": {
      "application/vnd.jupyter.widget-view+json": {
       "model_id": "c1e4c3837ff14d4591bac53454330fd4",
       "version_major": 2,
       "version_minor": 0
      },
      "text/plain": [
       "Validation: |          | 0/? [00:00<?, ?it/s]"
      ]
     },
     "metadata": {},
     "output_type": "display_data"
    },
    {
     "name": "stderr",
     "output_type": "stream",
     "text": [
      "Metric val_loss improved. New best score: 7.421\n"
     ]
    },
    {
     "data": {
      "application/vnd.jupyter.widget-view+json": {
       "model_id": "f10b88a509524b41a1d96aa5988d0047",
       "version_major": 2,
       "version_minor": 0
      },
      "text/plain": [
       "Validation: |          | 0/? [00:00<?, ?it/s]"
      ]
     },
     "metadata": {},
     "output_type": "display_data"
    },
    {
     "name": "stderr",
     "output_type": "stream",
     "text": [
      "Metric val_loss improved by 2.017 >= min_delta = 0.0. New best score: 5.404\n"
     ]
    }
   ],
   "source": [
    "from pytorch_lightning.callbacks import ModelCheckpoint\n",
    "from pytorch_lightning.callbacks import EarlyStopping\n",
    "\n",
    "early_stop_callback = EarlyStopping(\n",
    "   monitor='val_loss',\n",
    "   min_delta=0.00,\n",
    "   patience=30,\n",
    "   verbose=True,\n",
    "   mode='min'\n",
    ")\n",
    "checkpoint = ModelCheckpoint(\n",
    "    filename=\"{epoch}-{val_acc:.4f}\",\n",
    "    monitor=\"val_acc\",\n",
    "    mode=\"max\",\n",
    "    save_last=True,\n",
    ")\n",
    "rmodel = PTModel(num_classes=3258)\n",
    "trainer = pl.Trainer(default_root_dir=\"models/\", max_steps=100000, check_val_every_n_epoch=2, accelerator='gpu', devices=1, callbacks=[early_stop_callback], precision=16)\n",
    "trainer.fit(rmodel, dm)\n",
    "\n"
   ]
  },
  {
   "cell_type": "code",
   "execution_count": null,
   "metadata": {},
   "outputs": [],
   "source": [
    "model_path = 'models/noft_model.pth'\n",
    "\n",
    "# Save the model state\n",
    "torch.save(rmodel.state_dict(), model_path)\n",
    "\n",
    "# Provide the path for downloading\n",
    "model_path"
   ]
  },
  {
   "cell_type": "code",
   "execution_count": null,
   "metadata": {},
   "outputs": [],
   "source": [
    "rmodel = PTModel(num_classes=3258)\n",
    "for param in rmodel.model.parameters():\n",
    "    param.requires_grad = True\n",
    "rmodel.load_state_dict(torch.load(\"models/noft_model.pth\"))\n",
    "trainer = pl.Trainer(max_steps=50000, val_check_interval=10000, check_val_every_n_epoch=None, accelerator='gpu', devices=1, callbacks=[checkpoint, early_stop_callback], precision=16)\n",
    "trainer.fit(rmodel, dm)"
   ]
  },
  {
   "cell_type": "code",
   "execution_count": null,
   "metadata": {},
   "outputs": [],
   "source": [
    "model_path = 'models/ft_model.pth'\n",
    "\n",
    "# Save the model state\n",
    "torch.save(rmodel.state_dict(), model_path)\n",
    "\n",
    "# Provide the path for downloading\n",
    "model_path"
   ]
  },
  {
   "cell_type": "code",
   "execution_count": null,
   "metadata": {},
   "outputs": [],
   "source": [
    "'''\n",
    "I am never doing any training loops again\n",
    "'''\n",
    "'''\n",
    "def accuracy(output, target, topk=(1,)):\n",
    "    with torch.no_grad():\n",
    "        maxk = max(topk)\n",
    "        batch_size = target.size(0)\n",
    "\n",
    "        _, pred = output.topk(maxk, 1, True, True)\n",
    "        pred = pred.t()\n",
    "        correct = pred.eq(target.view(1, -1).expand_as(pred))\n",
    "\n",
    "        res = []\n",
    "        for k in topk:\n",
    "            correct_k = correct[:k].reshape(-1).float().sum(0, keepdim=True)\n",
    "            res.append(correct_k.mul_(100.0 / batch_size))\n",
    "        return res\n",
    "    \n",
    "if torch.cuda.is_available():\n",
    "    device = torch.device(\"cuda\")\n",
    "else:\n",
    "    device = torch.device(\"cpu\")\n",
    "model = PTModel(num_classes=3258)\n",
    "model = model.to(device)\n",
    "num_epochs = 100\n",
    "criterion = nn.CrossEntropyLoss()\n",
    "optimizer = torch.optim.Adam(model.parameters(), lr=1e-4)\n",
    "for epoch in range(num_epochs):\n",
    "    model.train() \n",
    "    running_loss = 0.0\n",
    "    running_corrects = 0\n",
    "    running_top5_corrects = 0\n",
    "\n",
    "    for images, labels in train_dataloader:\n",
    "        images, labels = images.to(device), labels.to(device)\n",
    "    \n",
    "        outputs = model(images)\n",
    "        loss = criterion(outputs, labels)\n",
    " \n",
    "        optimizer.zero_grad()\n",
    "        loss.backward()\n",
    "        optimizer.step()\n",
    "\n",
    "        acc1, acc5 = accuracy(outputs, labels, topk=(1, 5))\n",
    "        running_loss += loss.item() * images.size(0)\n",
    "        running_corrects += acc1.item()\n",
    "        running_top5_corrects += acc5.item()\n",
    "\n",
    "    epoch_loss = running_loss / len(train_dataloader.dataset)\n",
    "    epoch_acc = running_corrects / len(train_dataloader)\n",
    "    epoch_acc5 = running_top5_corrects / len(train_dataloader)\n",
    "    model.eval()  \n",
    "    print(f'Epoch [{epoch+1}/{num_epochs}], Loss: {epoch_loss:.4f}, Acc: {epoch_acc:.2f}%, Top-5 Acc: {epoch_acc5:.2f}%')\n",
    "    val_running_loss = 0.0\n",
    "    val_correct = 0\n",
    "    val_total = 0\n",
    "    val_top5_correct = 0\n",
    "    \n",
    "    with torch.no_grad():\n",
    "        for images, labels in val_dataloader:\n",
    "            images, labels = images.to(device), labels.to(device)\n",
    "            outputs = model(images)\n",
    "            loss = criterion(outputs, labels)\n",
    "\n",
    "            val_running_loss += loss.item() * images.size(0)\n",
    "            acc1, acc5 = accuracy(outputs, labels, topk=(1, 5))\n",
    "            val_correct += acc1.item()\n",
    "            val_top5_correct += acc5.item()\n",
    "            val_total += labels.size(0)\n",
    "\n",
    "    val_epoch_loss = val_running_loss / val_total\n",
    "    val_epoch_acc = val_correct / val_total\n",
    "    val_epoch_top5_acc = val_top5_correct / val_total\n",
    "\n",
    "    print(f'Validation - Loss: {val_epoch_loss:.4f}, Acc: {val_epoch_acc:.2f}%, Top-5 Acc: {val_epoch_top5_acc:.2f}%')\n",
    "    '''"
   ]
  },
  {
   "cell_type": "code",
   "execution_count": null,
   "metadata": {},
   "outputs": [],
   "source": [
    "model_path = 'models/trained_model.pth'\n",
    "\n",
    "# Save the model state\n",
    "torch.save(rmodel.state_dict(), model_path)\n",
    "\n",
    "# Provide the path for downloading\n",
    "model_path"
   ]
  },
  {
   "cell_type": "code",
   "execution_count": null,
   "metadata": {},
   "outputs": [],
   "source": [
    "model = PTModel.load_from_checkpoint(\"best_model.ckpt\")\n",
    "model.eval()\n"
   ]
  },
  {
   "cell_type": "code",
   "execution_count": null,
   "metadata": {},
   "outputs": [],
   "source": [
    "import torchvision.transforms as transforms\n",
    "import torchvision.datasets as datasets\n",
    "from torch.utils.data import DataLoader,Dataset\n",
    "from PIL import Image\n",
    "import matplotlib.pyplot as plt\n",
    "import numpy as np\n",
    "def pre_image(image_path,model):\n",
    "   img = Image.open(image_path)\n",
    "   mean = [0.485, 0.456, 0.406] \n",
    "   std = [0.229, 0.224, 0.225]\n",
    "   transform_norm = transforms.Compose([transforms.ToTensor(), \n",
    "   transforms.Resize((224,224)),transforms.Normalize(mean, std)])\n",
    "   # get normalized image\n",
    "   img_normalized = transform_norm(img).float()\n",
    "   img_normalized = img_normalized.unsqueeze_(0)\n",
    "   # input = Variable(image_tensor)\n",
    "   img_normalized = img_normalized.to(\"cpu\")\n",
    "   # print(img_normalized.shape)\n",
    "   with torch.no_grad():\n",
    "      model.eval()  \n",
    "      output =model(img_normalized)\n",
    "      #print(output)\n",
    "      probabilities, indices = torch.topk(output, 5)\n",
    "      probabilities = probabilities.cpu().numpy()[0]\n",
    "      #print(indices)\n",
    "      #class_name = train_ds.dataframe[index]['tags_cat4']\n",
    "      indices = indices.cpu().numpy()[0]\n",
    "      classes = list(label_encoder.classes_)\n",
    "      class_names = [classes[ind] for ind in indices]\n",
    "      print(class_names)\n",
    "      class_prob_pairs = sorted(zip(class_names, probabilities), key=lambda x: x[1], reverse=True)\n",
    "      return class_prob_pairs\n",
    "pre_image(\"../fullMin256/0001/1034001.jpg\", model)"
   ]
  }
 ],
 "metadata": {
  "kernelspec": {
   "display_name": "Python 3",
   "language": "python",
   "name": "python3"
  },
  "language_info": {
   "codemirror_mode": {
    "name": "ipython",
    "version": 3
   },
   "file_extension": ".py",
   "mimetype": "text/x-python",
   "name": "python",
   "nbconvert_exporter": "python",
   "pygments_lexer": "ipython3",
   "version": "3.10.12"
  }
 },
 "nbformat": 4,
 "nbformat_minor": 2
}
